{
 "cells": [
  {
   "cell_type": "code",
   "execution_count": 15,
   "metadata": {},
   "outputs": [],
   "source": [
    "import pymongo\n",
    "from pymongo import MongoClient\n",
    "from imbox import Imbox\n",
    "import os\n",
    "import traceback\n",
    "import gridfs\n",
    "import mysql.connector"
   ]
  },
  {
   "cell_type": "code",
   "execution_count": 16,
   "metadata": {},
   "outputs": [],
   "source": [
    "connection = MongoClient('localhost',27017)\n",
    "db = connection.dsWeek2\n",
    "mysql_db = mysql.connector.connect(\n",
    "    host=\"localhost\",\n",
    "    user = \"root\",\n",
    "    passwd=\"\"\n",
    ")\n",
    "mycursor = mysql_db.cursor()\n",
    "mycursor.execute(\"use week2ds\")\n",
    "invocieCollection = db.invoice "
   ]
  },
  {
   "cell_type": "code",
   "execution_count": 22,
   "metadata": {},
   "outputs": [],
   "source": [
    "with Imbox('imap.gmail.com',\n",
    "        username='dsweek2@gmail.com',\n",
    "        password='passpass@123',\n",
    "        ssl=True,\n",
    "        ssl_context=None,\n",
    "        starttls=False) as imbox:\n",
    "    kaushalMessages = imbox.messages(sent_from='kaushal.binjola17@gmail.com')\n",
    "    \n",
    "    \n",
    "    for uid, message in kaushalMessages:\n",
    "        invoiceDetailStr = message.body['plain'][0]\n",
    "        invoiceDetailStr = invoiceDetailStr.split('\\r\\n')\n",
    "        invoiceDetails = list(filter(lambda x: len(x) > 0, invoiceDetailStr))\n",
    "        attachment = message.attachments\n",
    "        \n",
    "        obj ={}\n",
    "        obj[\"company\"] = invoiceDetails[0]\n",
    "        obj[\"dateOrdered\"] = invoiceDetails[1][invoiceDetails[1].index(\":\")+2: ]\n",
    "        obj[\"invoiceNum\"] = invoiceDetails[2][invoiceDetails[2].index(\":\")+2: ]\n",
    "        obj[\"itemOrdered\"] = invoiceDetails[3][invoiceDetails[3].index(\":\")+2: ]\n",
    "        obj[\"billingAddr\"] = invoiceDetails[4][invoiceDetails[4].index(\":\")+2: ]\n",
    "        \n",
    "        mycursor.execute(f\"\"\"insert into invoice_info \n",
    "                        values('{obj[\"company\"]}','{obj[\"dateOrdered\"]}','{obj[\"invoiceNum\"]}','{obj[\"itemOrdered\"]}','{obj[\"billingAddr\"]}')\n",
    "                        \"\"\")\n",
    "        \n",
    "        mysql_db.commit()\n",
    "        \n",
    "        for idx, attachment in enumerate(message.attachments):\n",
    "            try:\n",
    "                att_fn = attachment.get('filename')\n",
    "                download_path = f\"./attachments/{att_fn}\"\n",
    "                with open(download_path, \"wb\") as fp:\n",
    "                    fp.write(attachment.get('content').read())\n",
    "                    \n",
    "                fileData = open(download_path,\"rb\")\n",
    "                data = fileData.read()\n",
    "                fs = gridfs.GridFS(db)\n",
    "                fs.put(data, filename=att_fn)\n",
    "            except:\n",
    "                print(traceback.print_exc())\n",
    "        \n",
    "        "
   ]
  },
  {
   "cell_type": "code",
   "execution_count": null,
   "metadata": {},
   "outputs": [],
   "source": []
  }
 ],
 "metadata": {
  "interpreter": {
   "hash": "dcacb0086e9a4f4eabd41c33bf4faac5ea0a3337ed3f5eff0680afa930572c04"
  },
  "kernelspec": {
   "display_name": "Python 3.9.4 64-bit",
   "name": "python3"
  },
  "language_info": {
   "codemirror_mode": {
    "name": "ipython",
    "version": 3
   },
   "file_extension": ".py",
   "mimetype": "text/x-python",
   "name": "python",
   "nbconvert_exporter": "python",
   "pygments_lexer": "ipython3",
   "version": "3.9.4"
  },
  "orig_nbformat": 4
 },
 "nbformat": 4,
 "nbformat_minor": 2
}
